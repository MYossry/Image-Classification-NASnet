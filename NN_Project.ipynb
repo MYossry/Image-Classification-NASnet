{
  "nbformat": 4,
  "nbformat_minor": 0,
  "metadata": {
    "colab": {
      "name": "NN-Project.ipynb",
      "provenance": [],
      "collapsed_sections": []
    },
    "kernelspec": {
      "name": "python3",
      "display_name": "Python 3"
    },
    "accelerator": "GPU"
  },
  "cells": [
    {
      "cell_type": "code",
      "metadata": {
        "id": "pk9fbbZVWyKx"
      },
      "source": [
        "!pip uninstall -y kaggle\n",
        "!pip install kaggle==1.5.6\n",
        "%env KAGGLE_USERNAME = olaadel\n",
        "%env KAGGLE_KEY = 66fb44d480b787b525f6ac8060e8f5b0\n",
        "!kaggle competitions download -c fcis-sc-deeplearning-competition\n",
        "!unzip /content/fcis-sc-deeplearning-competition.zip"
      ],
      "execution_count": null,
      "outputs": []
    },
    {
      "cell_type": "code",
      "metadata": {
        "id": "FvypVAWK7s-6"
      },
      "source": [
        "from google.colab import drive\n",
        "drive.mount('/content/drive')"
      ],
      "execution_count": null,
      "outputs": []
    },
    {
      "cell_type": "code",
      "metadata": {
        "id": "__-4H0XwMBwB"
      },
      "source": [
        "from tqdm import tqdm\n",
        "import numpy as np\n",
        "import matplotlib.pyplot as plt\n",
        "from PIL import Image\n",
        "import keras\n",
        "import os\n",
        "import pandas as pd\n",
        "import tqdm\n",
        "from keras.preprocessing.image import ImageDataGenerator\n",
        "from keras import Model, layers\n",
        "from keras.models import load_model, model_from_json\n",
        "import tensorflow as tf\n",
        "from keras.applications.nasnet import NASNetLarge\n",
        "from keras.applications.nasnet import preprocess_input\n",
        "from keras.preprocessing import image\n",
        "import PIL\n",
        "\n",
        "TEST_DIR = '/content/test/test'\n",
        "TRAIN_DIR = '/content/train/train'\n"
      ],
      "execution_count": null,
      "outputs": []
    },
    {
      "cell_type": "code",
      "metadata": {
        "id": "VtN36KwqMGj2"
      },
      "source": [
        "\n",
        "train_datagen = ImageDataGenerator(rescale=1./255,\n",
        "    shear_range=10,\n",
        "    zoom_range=0.2,\n",
        "    horizontal_flip=True,\n",
        "    preprocessing_function=preprocess_input)\n",
        "\n",
        "train_generator = train_datagen.flow_from_directory(\n",
        "    TRAIN_DIR,\n",
        "    batch_size=8,\n",
        "    class_mode='categorical',\n",
        "    target_size=(331,331))\n"
      ],
      "execution_count": null,
      "outputs": []
    },
    {
      "cell_type": "code",
      "metadata": {
        "id": "syVauaRvYBop"
      },
      "source": [
        "\n",
        "\n",
        "conv_base = NASNetLarge(\n",
        "    include_top=False,\n",
        "    weights='imagenet')\n",
        "print('1')\n",
        "for layer in conv_base.layers:\n",
        "    layer.trainable = False\n",
        "x = conv_base.output\n",
        "x = layers.GlobalAveragePooling2D()(x)\n",
        "x = layers.Dropout(0.5)(x)\n",
        "x = layers.Dense(128, activation='relu')(x) \n",
        "predictions = layers.Dense(10, activation='softmax')(x)\n",
        "model = Model(conv_base.input, predictions)\n",
        "print('2')\n",
        "\n",
        "\n",
        "optimizer = keras.optimizers.Adam()\n",
        "from keras.optimizers import SGD\n",
        "model.compile(optimizer=optimizer, loss='categorical_crossentropy', metrics=['accuracy'])\n",
        "print('3')\n",
        "\n",
        "step_size_train = train_generator.n//train_generator.batch_size\n",
        "print('done')\n",
        "model.fit_generator(train_generator,\n",
        "                              samples_per_epoch = step_size_train,  # added in Kaggle\n",
        "                              epochs = 50,\n",
        "                              validation_data=0,\n",
        "                              validation_steps=10  # added in Kaggle\n",
        "                             )\n",
        "#model.save('NASnet.h5')\n",
        "\n",
        "\n",
        "\n",
        "\n",
        "testing_pre = []\n",
        "\n",
        "for imagep in os.listdir(TEST_DIR):\n",
        "    image_path = os.path.join(TEST_DIR, imagep)\n",
        "    img = image.load_img(image_path, target_size=(331,331))\n",
        "    x = image.img_to_array(img)\n",
        "    x = np.expand_dims(x, axis = 0)\n",
        "    x = preprocess_input(x)\n",
        "    preds = model.predict(x)\n",
        "    print(imagep, preds, np.argmax(preds) + 1)\n",
        "    testing_pre.append([imagep,np.argmax(preds) + 1])\n",
        "\n",
        "Csv = pd.DataFrame(testing_pre)\n",
        "Csv.to_csv(\"S4.csv\")\n",
        "\n",
        "\n",
        "print('end')"
      ],
      "execution_count": null,
      "outputs": []
    },
    {
      "cell_type": "code",
      "metadata": {
        "id": "2_k1KcJBS3pt"
      },
      "source": [
        "model.save('/content/drive/My Drive/NNs/base_conv_model11.h5')"
      ],
      "execution_count": null,
      "outputs": []
    },
    {
      "cell_type": "code",
      "metadata": {
        "id": "rHX9GsrUvnBe"
      },
      "source": [
        "conv_base = NASNetLarge(\n",
        "    include_top=False,\n",
        "    weights=None)\n",
        "print('1')\n",
        "x = conv_base.output\n",
        "x = layers.GlobalAveragePooling2D()(x)\n",
        "x = layers.Dropout(0.5)(x)\n",
        "x = layers.Dense(128, activation='relu')(x) \n",
        "predictions = layers.Dense(10, activation='softmax')(x)\n",
        "model = Model(conv_base.input, predictions)\n",
        "print('2')\n",
        "model.load_weights('/content/drive/My Drive/NNs/base_conv_model11.h5')\n",
        "for layer in model.layers:\n",
        "  if(layer.name == 'adjust_conv_projection_14'):\n",
        "    break\n",
        "  layer.trainable = False\n",
        "for layer in model.layers:\n",
        "    print(\"{0}:\\t{1}\".format(layer.trainable, layer.name)) "
      ],
      "execution_count": null,
      "outputs": []
    },
    {
      "cell_type": "code",
      "metadata": {
        "id": "6TlJv1wdpj2K"
      },
      "source": [
        "optimizer = keras.optimizers.Adam\n",
        "model.compile(optimizer=optimizer(lr=1e-5), loss='categorical_crossentropy', metrics=['categorical_accuracy'])\n",
        "print('3')\n",
        "\n",
        "step_size_train = train_generator.n//train_generator.batch_size\n",
        "train_generator.reset()\n",
        "print('done')\n",
        "model.fit_generator(train_generator,\n",
        "                              samples_per_epoch = step_size_train,  # added in Kaggle\n",
        "                              epochs = 170,\n",
        "                              validation_data=0,\n",
        "                              validation_steps=10  # added in Kaggle\n",
        "                             )"
      ],
      "execution_count": null,
      "outputs": []
    },
    {
      "cell_type": "code",
      "metadata": {
        "id": "_SPdrXQPTUTb"
      },
      "source": [
        "testing_pre = []\n",
        "\n",
        "for imagep in os.listdir(TEST_DIR):\n",
        "    image_path = os.path.join(TEST_DIR, imagep)\n",
        "    img = image.load_img(image_path, target_size=(331,331))\n",
        "    x = image.img_to_array(img)\n",
        "    x = np.expand_dims(x, axis = 0)\n",
        "    x = preprocess_input(x)\n",
        "    preds = model.predict(x)\n",
        "    #print(imagep, preds, np.argmax(preds) + 1)\n",
        "    testing_pre.append([imagep,np.argmax(preds) + 1])\n",
        "\n",
        "Csv = pd.DataFrame(testing_pre)\n",
        "Csv.to_csv(\"Sfrxxt.csv\")\n",
        "\n",
        "#model.save('/content/drive/My Drive/NNs/base_conv_model11.h5')"
      ],
      "execution_count": null,
      "outputs": []
    }
  ]
}